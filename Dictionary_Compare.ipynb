{
 "cells": [
  {
   "cell_type": "code",
   "execution_count": 1,
   "id": "34f74607",
   "metadata": {},
   "outputs": [],
   "source": [
    "def compare_dicts(dict1, dict2):\n",
    "    # Keys from dict1 not in dict2 are 'deleted'\n",
    "    deleted_keys = set(dict1.keys()) - set(dict2.keys())\n",
    "    print(f\"Deleted keys: {deleted_keys}\")\n",
    "    \n",
    "    # Keys from dict2 not in dict1 are 'added'\n",
    "    added_keys = set(dict2.keys()) - set(dict1.keys())\n",
    "    print(f\"Added keys: {added_keys}\")\n",
    "    \n",
    "    # Check for changes in values of keys present in both\n",
    "    common_keys = set(dict1.keys()) & set(dict2.keys())\n",
    "    for key in common_keys:\n",
    "        if dict1[key] != dict2[key]:\n",
    "            print(f\"Value of '{key}' has changed from {dict1[key]} to {dict2[key]}\")\n"
   ]
  },
  {
   "cell_type": "code",
   "execution_count": null,
   "id": "e568439e",
   "metadata": {},
   "outputs": [],
   "source": []
  }
 ],
 "metadata": {
  "kernelspec": {
   "display_name": "Python 3 (ipykernel)",
   "language": "python",
   "name": "python3"
  },
  "language_info": {
   "codemirror_mode": {
    "name": "ipython",
    "version": 3
   },
   "file_extension": ".py",
   "mimetype": "text/x-python",
   "name": "python",
   "nbconvert_exporter": "python",
   "pygments_lexer": "ipython3",
   "version": "3.9.12"
  }
 },
 "nbformat": 4,
 "nbformat_minor": 5
}
