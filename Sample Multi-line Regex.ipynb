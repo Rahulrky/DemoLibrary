{
 "cells": [
  {
   "cell_type": "code",
   "execution_count": 1,
   "id": "7ce9e1a4",
   "metadata": {},
   "outputs": [
    {
     "name": "stdout",
     "output_type": "stream",
     "text": [
      "line 1\n",
      "This is line 2\n",
      "This is line 3\n"
     ]
    }
   ],
   "source": [
    "import re\n",
    "\n",
    "multiline_string = '''This is line 1\n",
    "This is line 2\n",
    "This is line 3'''\n",
    "\n",
    "# The (?s) turns on 'DOTALL' mode where the . matches anything including line breaks\n",
    "match = re.search(r'(?s)line 1.*line 3', multiline_string)\n",
    "\n",
    "if match:\n",
    "    print(match.group())\n",
    "else:\n",
    "    print('No match')\n"
   ]
  },
  {
   "cell_type": "code",
   "execution_count": 2,
   "id": "f57f07bc",
   "metadata": {},
   "outputs": [
    {
     "name": "stdout",
     "output_type": "stream",
     "text": [
      "line 1\n",
      "line 2\n",
      "line 3\n"
     ]
    }
   ],
   "source": [
    "import re\n",
    "\n",
    "multiline_string = '''line 1\n",
    "line 2\n",
    "line 3'''\n",
    "\n",
    "# (?m) turns on 'MULTILINE' mode where the ^ and $ match the start and end of each line\n",
    "matches = re.findall(r'(?m)^line \\d$', multiline_string)\n",
    "\n",
    "for match in matches:\n",
    "    print(match)\n"
   ]
  },
  {
   "cell_type": "code",
   "execution_count": null,
   "id": "03c54b05",
   "metadata": {},
   "outputs": [],
   "source": []
  }
 ],
 "metadata": {
  "kernelspec": {
   "display_name": "Python 3 (ipykernel)",
   "language": "python",
   "name": "python3"
  },
  "language_info": {
   "codemirror_mode": {
    "name": "ipython",
    "version": 3
   },
   "file_extension": ".py",
   "mimetype": "text/x-python",
   "name": "python",
   "nbconvert_exporter": "python",
   "pygments_lexer": "ipython3",
   "version": "3.9.12"
  }
 },
 "nbformat": 4,
 "nbformat_minor": 5
}
