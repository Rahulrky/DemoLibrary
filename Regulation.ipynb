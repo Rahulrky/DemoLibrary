{
 "cells": [
  {
   "cell_type": "code",
   "execution_count": 17,
   "id": "ea0736be",
   "metadata": {},
   "outputs": [
    {
     "name": "stdout",
     "output_type": "stream",
     "text": [
      "1: SCOPE\n",
      "\n",
      "\n",
      "1.1: This Regulation applies to vehicles of categories M2, M3, N and 0 1/ with regard to braking 2/.\n",
      "\n",
      "\n",
      "1.2: This Regulation does not cover:\n",
      "\n",
      "\n",
      "1.2.1: vehicles with a design speed not exceeding 25 km/h;\n",
      "\n",
      "\n",
      "1.2.2: trailers which may not be coupled to power-driven vehicles with a design speed exceeding 25 km/h\n",
      "\n",
      "\n",
      "1.2.3: vehicles fitted for invalid drivers;\n",
      "\n",
      "\n",
      "1.3: Subject to the applicable provisions of this Regulation, the equipment, methods and conditions enumerated in Annex 1 are not covered by this Regulation.\n",
      "\n",
      "\n",
      "2: DEFINITIONS\n",
      "For the purposes of this Regulation,\n",
      "\n",
      "\n",
      "2.1: \"Approval of a vehicle\" means the approval of a vehicle type with regard to braking.\n",
      "\n",
      "\n"
     ]
    }
   ],
   "source": [
    "import re\n",
    "\n",
    "def parse_document(data):\n",
    "    paragraphs = re.findall(r'(\\d+(\\.\\d+)*)\\.\\s*([\\s\\S]+?)(?=\\n\\d+(\\.\\d+)*\\.|\\Z)', data, flags=re.MULTILINE)\n",
    "    parsed_data = {}\n",
    "\n",
    "    for paragraph in paragraphs:\n",
    "        paragraph_number = paragraph[0]\n",
    "        paragraph_text = paragraph[2].strip() if paragraph[2] else paragraph[1].strip()\n",
    "        parsed_data[paragraph_number] = paragraph_text\n",
    "\n",
    "    return parsed_data\n",
    "\n",
    "# Example usage\n",
    "document_data = \"\"\"\n",
    "1.\n",
    "SCOPE\n",
    "1.1.\n",
    "This Regulation applies to vehicles of categories M2, M3, N and 0 1/ with regard to braking 2/.\n",
    "1.2.\n",
    "This Regulation does not cover:\n",
    "1.2.1.\n",
    "vehicles with a design speed not exceeding 25 km/h;\n",
    "1.2.2.\n",
    "trailers which may not be coupled to power-driven vehicles with a design speed exceeding 25 km/h\n",
    "1.2.3.\n",
    "vehicles fitted for invalid drivers;\n",
    "1.3.\n",
    "Subject to the applicable provisions of this Regulation, the equipment, methods and conditions enumerated in Annex 1 are not covered by this Regulation.\n",
    "2.\n",
    "DEFINITIONS\n",
    "For the purposes of this Regulation, \n",
    "2.1.\n",
    "\"Approval of a vehicle\" means the approval of a vehicle type with regard to braking.\n",
    "\"\"\"\n",
    "\n",
    "parsed_document = parse_document(document_data)\n",
    "\n",
    "# Print the parsed data\n",
    "for paragraph_number, paragraph_text in parsed_document.items():\n",
    "    print(f\"{paragraph_number}: {paragraph_text}\\n\\n\")\n"
   ]
  },
  {
   "cell_type": "code",
   "execution_count": null,
   "id": "4a5b969a",
   "metadata": {},
   "outputs": [],
   "source": []
  }
 ],
 "metadata": {
  "kernelspec": {
   "display_name": "Python 3 (ipykernel)",
   "language": "python",
   "name": "python3"
  },
  "language_info": {
   "codemirror_mode": {
    "name": "ipython",
    "version": 3
   },
   "file_extension": ".py",
   "mimetype": "text/x-python",
   "name": "python",
   "nbconvert_exporter": "python",
   "pygments_lexer": "ipython3",
   "version": "3.9.12"
  }
 },
 "nbformat": 4,
 "nbformat_minor": 5
}
