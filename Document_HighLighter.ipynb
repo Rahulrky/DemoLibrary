{
  "nbformat": 4,
  "nbformat_minor": 0,
  "metadata": {
    "colab": {
      "provenance": []
    },
    "kernelspec": {
      "name": "python3",
      "display_name": "Python 3"
    },
    "language_info": {
      "name": "python"
    }
  },
  "cells": [
    {
      "cell_type": "code",
      "source": [
        "!pip install python-docx >> out.txt"
      ],
      "metadata": {
        "id": "GtMbgjXulGaq"
      },
      "execution_count": 2,
      "outputs": []
    },
    {
      "cell_type": "code",
      "execution_count": 3,
      "metadata": {
        "id": "q5_9xCDAk5U7"
      },
      "outputs": [],
      "source": [
        "from docx import Document\n",
        "from docx.shared import RGBColor\n",
        "\n",
        "text = \"\"\"\n",
        "2.2.1.5. a different type of braking equipment, with more particular reference to the\n",
        "presence or otherwise of equipment for braking a trailer, or any presence of an\n",
        "electric regenerative braking system;\n",
        "\n",
        "new_ 2.2.1.6. the arrangement of the axles; _new\n",
        "old_ 2.2.1.6. the number and arrangement of the axles; _old\n",
        "\n",
        "2.2.1.7. the engine type;\n",
        "\n",
        "2.2.1.8. the number and ratios of gears;\n",
        "\"\"\"\n",
        "\n",
        "document = Document()\n",
        "\n",
        "for line in text.split('\\n'):\n",
        "    paragraph = document.add_paragraph()\n",
        "    if 'new_' in line and '_new' in line:\n",
        "        start = line.index('new_') + len('new_')\n",
        "        end = line.index('_new')\n",
        "        run = paragraph.add_run(line[start:end])\n",
        "        run.font.color.rgb = RGBColor(0x00, 0x64, 0x00)  # Green color\n",
        "        paragraph.add_run(line[end + len('_new'):])\n",
        "    elif 'old_' in line and '_old' in line:\n",
        "        start = line.index('old_') + len('old_')\n",
        "        end = line.index('_old')\n",
        "        run = paragraph.add_run(line[start:end])\n",
        "        run.font.color.rgb = RGBColor(0xFF, 0x00, 0x00)  # Red color\n",
        "        paragraph.add_run(line[end + len('_old'):])\n",
        "    else:\n",
        "        paragraph.add_run(line)\n",
        "\n",
        "document.save('highlighted_text.docx')\n"
      ]
    },
    {
      "cell_type": "code",
      "source": [
        "import re\n",
        "from docx import Document\n",
        "from docx.shared import RGBColor\n",
        "\n",
        "text = \"\"\"\n",
        "2.2.1.5. a different type of braking equipment, with more particular reference to the\n",
        "presence or otherwise of equipment for braking a trailer, or any presence of an\n",
        "electric regenerative braking system;\n",
        "\n",
        "new_ 2.2.1.6. the arrangement\n",
        "of the axles; _new\n",
        "old_ 2.2.1.6. the number and\n",
        "\n",
        "arrangement of the axles; _old\n",
        "\n",
        "2.2.1.7. the engine type;\n",
        "\n",
        "2.2.1.8. the number and ratios of gears;\n",
        "\"\"\"\n",
        "\n",
        "# Find all occurrences of new_ and _new, and old_ and _old\n",
        "new_matches = [(m.start(), m.end()) for m in re.finditer('new_(.*?)_new', text, re.DOTALL)]\n",
        "old_matches = [(m.start(), m.end()) for m in re.finditer('old_(.*?)_old', text, re.DOTALL)]\n",
        "\n",
        "document = Document()\n",
        "\n",
        "cursor_index = 0\n",
        "paragraph = document.add_paragraph()\n",
        "\n",
        "for match_start, match_end in sorted(new_matches + old_matches):\n",
        "    # Add the text before the match in default color\n",
        "    paragraph.add_run(text[cursor_index:match_start])\n",
        "\n",
        "    # Add the matched text in the appropriate color\n",
        "    run = paragraph.add_run(text[match_start:match_end])\n",
        "    if (match_start, match_end) in new_matches:\n",
        "        run.font.color.rgb = RGBColor(0x00, 0x64, 0x00)  # Green color\n",
        "    else:\n",
        "        run.font.color.rgb = RGBColor(0xFF, 0x00, 0x00)  # Red color\n",
        "\n",
        "    cursor_index = match_end\n",
        "\n",
        "# Add the rest of the text\n",
        "paragraph.add_run(text[cursor_index:])\n",
        "\n",
        "document.save('highlighted_text.docx')\n"
      ],
      "metadata": {
        "id": "f2uO4thpk_6k"
      },
      "execution_count": 4,
      "outputs": []
    }
  ]
}