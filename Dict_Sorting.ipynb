{
 "cells": [
  {
   "cell_type": "code",
   "execution_count": 1,
   "id": "ad217fc7",
   "metadata": {},
   "outputs": [],
   "source": [
    "def sort_dict(d):\n",
    "    # Convert the dictionary to a list of tuples\n",
    "    items = list(d.items())\n",
    "\n",
    "    # Sort the list of tuples based on the keys, converted to tuples of integers\n",
    "    items.sort(key=lambda item: tuple(int(part) for part in item[0].split('.') if part))\n",
    "\n",
    "    # Convert the sorted list of tuples back to a dictionary\n",
    "    sorted_dict = {key: value for key, value in items}\n",
    "\n",
    "    return sorted_dict"
   ]
  },
  {
   "cell_type": "code",
   "execution_count": 2,
   "id": "01e2ecc4",
   "metadata": {},
   "outputs": [
    {
     "name": "stdout",
     "output_type": "stream",
     "text": [
      "1.: s\n",
      "1.1.: d\n",
      "1.2.: f\n",
      "5.1.: \n",
      "5.1.1.: p\n",
      "5.1.1.2: d\n"
     ]
    }
   ],
   "source": [
    "d = {\n",
    "    '1.': 's',\n",
    "    '1.1.': 'd',\n",
    "    '5.1.': '',\n",
    "    '5.1.1.': 'p',\n",
    "    '5.1.1.2': 'd',\n",
    "    '1.2.': 'f'\n",
    "}\n",
    "\n",
    "sorted_dict = sort_dict(d)\n",
    "\n",
    "for key, value in sorted_dict.items():\n",
    "    print(f'{key}: {value}')"
   ]
  },
  {
   "cell_type": "code",
   "execution_count": null,
   "id": "d4a9b3c4",
   "metadata": {},
   "outputs": [],
   "source": []
  }
 ],
 "metadata": {
  "kernelspec": {
   "display_name": "Python 3 (ipykernel)",
   "language": "python",
   "name": "python3"
  },
  "language_info": {
   "codemirror_mode": {
    "name": "ipython",
    "version": 3
   },
   "file_extension": ".py",
   "mimetype": "text/x-python",
   "name": "python",
   "nbconvert_exporter": "python",
   "pygments_lexer": "ipython3",
   "version": "3.9.12"
  }
 },
 "nbformat": 4,
 "nbformat_minor": 5
}
