{
 "cells": [
  {
   "cell_type": "code",
   "execution_count": 1,
   "id": "45a9e71e",
   "metadata": {},
   "outputs": [],
   "source": [
    "import pandas as pd\n",
    "\n",
    "data = {\n",
    "    'char': [\n",
    "        'Annex 1\\n', 'Data for Annex 1\\n', 'Data for Annex 1\\n', 'Data for Annex 1\\n',\n",
    "        'Annex 1 - Appendix\\n', 'Data for Annex 1 - Appendix\\n', 'Data for Annex 1 - Appendix\\n', 'Data for Annex 1 - Appendix\\n',\n",
    "        'Annex 2\\n', 'Data for Annex 2\\n', 'Data for Annex 2\\n', 'Data for Annex 2\\n',\n",
    "        'Annex 2 - Appendix 1\\n', 'Data for Annex 2 - Appendix 1\\n', 'Data for Annex 2 - Appendix 1\\n'\n",
    "    ]\n",
    "}\n",
    "\n",
    "df = pd.DataFrame(data)"
   ]
  },
  {
   "cell_type": "code",
   "execution_count": 7,
   "id": "66f6ef6e",
   "metadata": {},
   "outputs": [],
   "source": [
    "import pandas as pd\n",
    "import re\n",
    "\n",
    "def extract_data(df):\n",
    "    annex_dict = {}\n",
    "    current_key = None\n",
    "    for _, row in df.iterrows():\n",
    "        char = row['char'].strip()  # remove leading and trailing spaces\n",
    "        if re.match(r\"^Annex\", char):  # if the row starts with \"Annex\"\n",
    "            current_key = char  # this is a new key\n",
    "            annex_dict[current_key] = ''\n",
    "        elif current_key:  # if we have a current key\n",
    "            annex_dict[current_key] += char + '\\n'  # append the data to the current key\n",
    "    return annex_dict\n",
    "\n",
    "result = extract_data(df)\n"
   ]
  },
  {
   "cell_type": "code",
   "execution_count": 8,
   "id": "82513a7a",
   "metadata": {},
   "outputs": [
    {
     "name": "stdout",
     "output_type": "stream",
     "text": [
      "{'Annex 1': 'Data for Annex 1\\nData for Annex 1\\nData for Annex 1\\n', 'Annex 1 - Appendix': 'Data for Annex 1 - Appendix\\nData for Annex 1 - Appendix\\nData for Annex 1 - Appendix\\n', 'Annex 2': 'Data for Annex 2\\nData for Annex 2\\nData for Annex 2\\n', 'Annex 2 - Appendix 1': 'Data for Annex 2 - Appendix 1\\nData for Annex 2 - Appendix 1\\n'}\n"
     ]
    }
   ],
   "source": [
    "print(result)"
   ]
  },
  {
   "cell_type": "code",
   "execution_count": 9,
   "id": "60cf4858",
   "metadata": {},
   "outputs": [
    {
     "name": "stdout",
     "output_type": "stream",
     "text": [
      "Annex 1 :  Data for Annex 1\n",
      "Data for Annex 1\n",
      "Data for Annex 1\n",
      "\n",
      "---------------------------------------------------------\n",
      "\n",
      "Annex 1 - Appendix :  Data for Annex 1 - Appendix\n",
      "Data for Annex 1 - Appendix\n",
      "Data for Annex 1 - Appendix\n",
      "\n",
      "---------------------------------------------------------\n",
      "\n",
      "Annex 2 :  Data for Annex 2\n",
      "Data for Annex 2\n",
      "Data for Annex 2\n",
      "\n",
      "---------------------------------------------------------\n",
      "\n",
      "Annex 2 - Appendix 1 :  Data for Annex 2 - Appendix 1\n",
      "Data for Annex 2 - Appendix 1\n",
      "\n",
      "---------------------------------------------------------\n",
      "\n"
     ]
    }
   ],
   "source": [
    "for key, value in result.items():\n",
    "    print(key, \": \", value, end=\"\\n\")\n",
    "    print(\"---------------------------------------------------------\\n\")"
   ]
  },
  {
   "cell_type": "code",
   "execution_count": null,
   "id": "d1487524",
   "metadata": {},
   "outputs": [],
   "source": []
  }
 ],
 "metadata": {
  "kernelspec": {
   "display_name": "Python 3 (ipykernel)",
   "language": "python",
   "name": "python3"
  },
  "language_info": {
   "codemirror_mode": {
    "name": "ipython",
    "version": 3
   },
   "file_extension": ".py",
   "mimetype": "text/x-python",
   "name": "python",
   "nbconvert_exporter": "python",
   "pygments_lexer": "ipython3",
   "version": "3.9.12"
  }
 },
 "nbformat": 4,
 "nbformat_minor": 5
}
